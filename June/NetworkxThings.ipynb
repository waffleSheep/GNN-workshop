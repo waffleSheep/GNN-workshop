{
  "nbformat": 4,
  "nbformat_minor": 0,
  "metadata": {
    "colab": {
      "provenance": []
    },
    "kernelspec": {
      "name": "python3",
      "display_name": "Python 3"
    },
    "language_info": {
      "name": "python"
    }
  },
  "cells": [
    {
      "cell_type": "code",
      "source": [
        "!pip install networkx"
      ],
      "metadata": {
        "id": "TNtKn9f1lCdg"
      },
      "execution_count": null,
      "outputs": []
    },
    {
      "cell_type": "code",
      "execution_count": null,
      "metadata": {
        "id": "x8hCnMsXk_TJ"
      },
      "outputs": [],
      "source": [
        "import networkx as nx"
      ]
    },
    {
      "cell_type": "code",
      "source": [
        "G = nx.Graph()\n",
        "H = nx.Graph()"
      ],
      "metadata": {
        "id": "EaGXCnaclBwD"
      },
      "execution_count": null,
      "outputs": []
    },
    {
      "cell_type": "markdown",
      "source": [
        "By definition, a Graph is a collection of nodes (vertices) along with identified pairs of nodes (called edges, links, etc). In NetworkX, nodes can be any hashable object e.g., a text string, an image, an XML object, another Graph, a customized node object, etc."
      ],
      "metadata": {
        "id": "zn5cIfnFlH75"
      }
    },
    {
      "cell_type": "markdown",
      "source": [
        "# Nodes"
      ],
      "metadata": {
        "id": "tJN6YnV-lN_Y"
      }
    },
    {
      "cell_type": "code",
      "source": [
        "G.add_node(1) #Add nodes one at a time"
      ],
      "metadata": {
        "id": "7BQ_viX0lQUI"
      },
      "execution_count": null,
      "outputs": []
    },
    {
      "cell_type": "code",
      "source": [
        "G.add_nodes_from([2, 3]) #Or Multiple at a time using a list"
      ],
      "metadata": {
        "id": "EjIjKoeLlT2T"
      },
      "execution_count": null,
      "outputs": []
    },
    {
      "cell_type": "code",
      "source": [
        "H.add_nodes_from(G) #You can add nodes from one graph to another\n",
        "H.add_node(G) #OR You can add G (a graph) as a node!"
      ],
      "metadata": {
        "id": "f2TqmFlJlZaD"
      },
      "execution_count": null,
      "outputs": []
    },
    {
      "cell_type": "markdown",
      "source": [
        "# Edges"
      ],
      "metadata": {
        "id": "HpUQ3HzjIf2u"
      }
    },
    {
      "cell_type": "markdown",
      "source": [
        "G can also be grown by adding edges"
      ],
      "metadata": {
        "id": "SMx6QQ6PIl4Y"
      }
    },
    {
      "cell_type": "code",
      "source": [
        "G.add_edge(1, 2)\n",
        "e = (2, 3)\n",
        "G.add_edge(*e)  # unpack edge tuple*"
      ],
      "metadata": {
        "id": "Ex2DEXMZlwdr"
      },
      "execution_count": null,
      "outputs": []
    },
    {
      "cell_type": "code",
      "source": [
        "G.add_edges_from([(1, 2), (1, 3)])"
      ],
      "metadata": {
        "id": "k1ihsTsOIrBd"
      },
      "execution_count": null,
      "outputs": []
    },
    {
      "cell_type": "markdown",
      "source": [
        "# Directed Graphs"
      ],
      "metadata": {
        "id": "l1eFPvmYJanr"
      }
    },
    {
      "cell_type": "markdown",
      "source": [
        "The DiGraph class provides additional methods and properties specific to directed edges"
      ],
      "metadata": {
        "id": "DNOdszccJg0k"
      }
    },
    {
      "cell_type": "code",
      "source": [
        "DG = nx.DiGraph()\n",
        "DG.add_weighted_edges_from([(1, 2, 0.5), (3, 1, 0.75)])\n",
        "\n",
        "print(DG.out_degree(1, weight='weight'))\n",
        "\n",
        "print(DG.degree(1, weight='weight'))\n",
        "\n",
        "print(list(DG.successors(1)))\n",
        "\n",
        "print(list(DG.neighbors(1)))\n"
      ],
      "metadata": {
        "colab": {
          "base_uri": "https://localhost:8080/"
        },
        "id": "pHDbZVwGJdGH",
        "outputId": "ac1616c2-907e-4a08-a0ee-47f058ee7ec8"
      },
      "execution_count": null,
      "outputs": [
        {
          "output_type": "stream",
          "name": "stdout",
          "text": [
            "0.5\n",
            "1.25\n",
            "[2]\n",
            "[2]\n"
          ]
        }
      ]
    },
    {
      "cell_type": "markdown",
      "source": [
        "# Removing elements from a graph"
      ],
      "metadata": {
        "id": "i_qoaBpuKBCw"
      }
    },
    {
      "cell_type": "code",
      "source": [
        "print(list(G.nodes))\n",
        "G.remove_node(2)\n",
        "print(list(G.nodes))\n",
        "\n",
        "G.remove_edge(1, 3)"
      ],
      "metadata": {
        "id": "E-0uRK8UKC44"
      },
      "execution_count": null,
      "outputs": []
    },
    {
      "cell_type": "markdown",
      "source": [
        "# Drawing Graphs"
      ],
      "metadata": {
        "id": "28YoIphhI87r"
      }
    },
    {
      "cell_type": "code",
      "source": [
        "import matplotlib.pyplot as plt"
      ],
      "metadata": {
        "id": "hxXhQyJDIy0Q"
      },
      "execution_count": null,
      "outputs": []
    },
    {
      "cell_type": "code",
      "source": [
        "G = nx.petersen_graph()\n",
        "subax1 = plt.subplot(121)\n",
        "nx.draw(G, with_labels=True, font_weight='bold')\n",
        "subax2 = plt.subplot(122)\n",
        "nx.draw_shell(G, nlist=[range(5, 10), range(5)], with_labels=True, font_weight='bold')"
      ],
      "metadata": {
        "colab": {
          "base_uri": "https://localhost:8080/",
          "height": 248
        },
        "id": "dWGv5gtdI_0L",
        "outputId": "640d954b-ff23-4f33-f5aa-1622b39496ca"
      },
      "execution_count": null,
      "outputs": [
        {
          "output_type": "display_data",
          "data": {
            "text/plain": [
              "<Figure size 432x288 with 2 Axes>"
            ],
            "image/png": "[encoded data removed]"
          },
          "metadata": {}
        }
      ]
    }
  ]
}